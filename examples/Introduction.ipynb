{
 "cells": [
  {
   "cell_type": "markdown",
   "metadata": {},
   "source": [
    "# Introduction to plotting "
   ]
  },
  {
   "cell_type": "code",
   "execution_count": null,
   "metadata": {},
   "outputs": [],
   "source": [
    "import sciplot as sp\n",
    "import matplotlib.pyplot as plt\n",
    "%matplotlib inline"
   ]
  },
  {
   "cell_type": "code",
   "execution_count": null,
   "metadata": {},
   "outputs": [],
   "source": [
    "plt.style.use('sciplot')"
   ]
  },
  {
   "cell_type": "code",
   "execution_count": null,
   "metadata": {},
   "outputs": [],
   "source": [
    "%load_ext autoreload\n",
    "%autoreload 2"
   ]
  },
  {
   "cell_type": "markdown",
   "metadata": {},
   "source": [
    "### Creating some pseudo data"
   ]
  },
  {
   "cell_type": "code",
   "execution_count": null,
   "metadata": {},
   "outputs": [],
   "source": [
    "import pandas as pd\n",
    "import numpy as np\n",
    "\n",
    "ns =30000\n",
    "nb =80000\n",
    "\n",
    "df = {'mass': np.append(np.random.random_sample(nb)*7 - 3.5, np.random.normal(0, 0.5, ns))}\n",
    "df['sig'] = np.append(np.zeros(nb),np.ones(ns), )\n",
    "df['exp'] = np.random.randint(0,8, ns+nb)\n",
    "df['gauss'] = np.append(np.random.random_sample(nb)*7 - 3.5, np.random.normal(-1, 0.5, ns))\n",
    "\n",
    "df = pd.DataFrame(df)\n",
    "\n",
    "df1 = {'mass': np.append(np.random.random_sample(nb)*7 - 3.5, np.random.random_sample(ns)*7 - 3.5 )}\n",
    "df1['sig'] = np.append(np.zeros(nb),np.ones(ns), )\n",
    "df1 = pd.DataFrame(df1)"
   ]
  },
  {
   "cell_type": "markdown",
   "metadata": {},
   "source": [
    "# Simple Plot"
   ]
  },
  {
   "cell_type": "code",
   "execution_count": null,
   "metadata": {},
   "outputs": [],
   "source": [
    "sp.hist(df.mass, lw=2, scale=0.5, weights=np.random.normal(1,0.1,len(df)))\n",
    "sp.xlim()\n",
    "sp.labels(\"Mass\", \"Events\", root_style=1)"
   ]
  },
  {
   "cell_type": "code",
   "execution_count": null,
   "metadata": {},
   "outputs": [],
   "source": [
    "sp.figure()\n",
    "sp.hist(df.mass, color=1, style=0)\n",
    "sp.xlim()\n",
    "sp.labels(\"Mass\", \"Events\", root_style=1)"
   ]
  },
  {
   "cell_type": "code",
   "execution_count": null,
   "metadata": {},
   "outputs": [],
   "source": [
    "xx = df.sample(50).mass\n",
    "sp.figure()\n",
    "sp.errorhist(xx, color='black')\n",
    "sp.xlim()\n",
    "plt.ylim(0)\n",
    "sp.labels(\"Mass\", \"Events\", 'GeV', root_style=1)"
   ]
  },
  {
   "cell_type": "code",
   "execution_count": null,
   "metadata": {},
   "outputs": [],
   "source": [
    "sp.errorhist(xx, box=True)\n",
    "sp.xlim()\n",
    "plt.ylim(0)\n",
    "sp.labels(\"Mass\", \"Events\", 'GeV',root_style=1)"
   ]
  },
  {
   "cell_type": "markdown",
   "metadata": {},
   "source": [
    "# Several Distrtibutions"
   ]
  },
  {
   "cell_type": "code",
   "execution_count": null,
   "metadata": {},
   "outputs": [],
   "source": [
    "sp.figure()\n",
    "\n",
    "sp.hist(df.mass,  style=0,)\n",
    "\n",
    "sp.hist(df1.mass,  lw=2)\n",
    "\n",
    "sp.xlim()\n",
    "sp.labels(\"Mass\", \"Events\",'' )"
   ]
  },
  {
   "cell_type": "code",
   "execution_count": null,
   "metadata": {},
   "outputs": [],
   "source": [
    "sp.sig_bkg_plot(df, \"mass\", 'sig')"
   ]
  },
  {
   "cell_type": "code",
   "execution_count": null,
   "metadata": {},
   "outputs": [],
   "source": [
    "sp.figure()\n",
    "sp.hist(df[df.sig==1].mass,  style=0, color=0, range=(-3,3), label='Signal')\n",
    "sp.hist(df1.mass,  style=1, color=1, label='MC1')\n",
    "sp.hist(np.random.normal(-3,1, 10000), style=2, color=3, label='NP')\n",
    "sp.xlim()\n",
    "plt.legend()\n",
    "sp.labels(\"Mass\", \"Events\",'GeV' ,1)"
   ]
  },
  {
   "cell_type": "code",
   "execution_count": null,
   "metadata": {},
   "outputs": [],
   "source": [
    "with plt.style.context(\"sciplot_ticks\"):\n",
    "    sp.stacked(df, \"mass\", 'exp', bins=50,)\n",
    "    # sp.errorbar(df1.mass, color='black')\n",
    "    plt.legend()\n",
    "    sp.labels('$\\Delta M$', \"Events\", \"GeV\", )\n",
    "\n",
    "    sp.xlim()"
   ]
  },
  {
   "cell_type": "code",
   "execution_count": null,
   "metadata": {},
   "outputs": [],
   "source": [
    "sp.stacked([df[df.exp==2].mass, \n",
    "                df[df.exp==3].mass], \n",
    "               bins=50, lw=.25)\n",
    "# sp.errorbar(df1.mass, color='black')\n",
    "sp.xlim()"
   ]
  },
  {
   "cell_type": "code",
   "execution_count": null,
   "metadata": {},
   "outputs": [],
   "source": [
    "sp.stacked(df, \"mass\", 'exp', bins=50, color=sp.b2helix(8), label=range(8))\n",
    "sp.errorhist(df.mass.values, color='black', weights=np.random.normal(1.01,0.9, len(df)), label=\"Data\")\n",
    "sp.xlim()\n",
    "plt.legend()\n",
    "sp.labels(\"$M$\", \"Events\", 'GeV', 1)"
   ]
  },
  {
   "cell_type": "code",
   "execution_count": null,
   "metadata": {},
   "outputs": [],
   "source": [
    "from sciplot.analysis import plot_flatness\n"
   ]
  },
  {
   "cell_type": "code",
   "execution_count": null,
   "metadata": {},
   "outputs": [],
   "source": [
    "with plt.style.context(('sciplot_ticks')):\n",
    "    sp.figure()\n",
    "    plot_flatness(df.mass, df.gauss, xrange= (-4,3))\n",
    "    sp.xlim()"
   ]
  },
  {
   "cell_type": "code",
   "execution_count": null,
   "metadata": {},
   "outputs": [],
   "source": [
    "y,x,h = sp.stacked([df[df.exp==2].mass, \n",
    "                df[df.exp==3].mass], \n",
    "               bins=50, lw=.25)\n",
    "sp.errorbar((x[:-1]+ x[1:])/2, y, np.sqrt(y) )"
   ]
  },
  {
   "cell_type": "code",
   "execution_count": null,
   "metadata": {},
   "outputs": [],
   "source": []
  }
 ],
 "metadata": {
  "kernelspec": {
   "display_name": "Python 3 (Belle2)",
   "language": "python",
   "name": "python3"
  },
  "language_info": {
   "codemirror_mode": {
    "name": "ipython",
    "version": 3
   },
   "file_extension": ".py",
   "mimetype": "text/x-python",
   "name": "python",
   "nbconvert_exporter": "python",
   "pygments_lexer": "ipython3",
   "version": "3.6.6"
  }
 },
 "nbformat": 4,
 "nbformat_minor": 2
}
